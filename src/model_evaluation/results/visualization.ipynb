{
 "cells": [
  {
   "cell_type": "code",
   "execution_count": null,
   "metadata": {},
   "outputs": [],
   "source": [
    "import pandas as pd\n",
    "import numpy as np\n",
    "import seaborn as sns\n",
    "import matplotlib.pyplot as plt\n",
    "\n",
    "plt.rcParams.update({'font.size': 22})"
   ]
  },
  {
   "cell_type": "code",
   "execution_count": null,
   "metadata": {},
   "outputs": [],
   "source": [
    "result_df = pd.read_csv(\"results.csv\")\n",
    "result_df.head()"
   ]
  },
  {
   "cell_type": "code",
   "execution_count": null,
   "metadata": {},
   "outputs": [],
   "source": [
    "# model results\n",
    "models = result_df[\"model\"].unique()\n",
    "\n",
    "for model_name in models:\n",
    "  llama_df = result_df[result_df[\"model\"] == model_name]\n",
    "  llama_df = llama_df[llama_df[\"framework\"] != \"paper\"]\n",
    "  llama_df = llama_df[llama_df[\"dataset\"].isin([\"winogrande\", \"arc\", \"truthfulqa\", \"hellaswag\"])]\n",
    "  llama_df.loc[llama_df[\"quantization\"].isna(),\"quantization\"] = \"None\"\n",
    "  llama_df = llama_df[llama_df[\"quantization\"].isin([\"q4_0\", \"q4_k\", \"q3_k\", \"AWQ\", \"GPTQ\", \"None\"])]\n",
    "  ax = sns.barplot(x=\"accuracy\", y=\"dataset\", hue=\"quantization\", hue_order=[label for label in [\"None\", \"q4_0\", \"q4_k\", \"q3_k\", \"AWQ\", \"GPTQ\"] if label in llama_df.quantization.unique()], data=llama_df, orient='h')\n",
    "  ax.set_title(f\"{model_name} quantized accuracy\")\n",
    "  plt.savefig(f\"figures/{model_name}_quantized_accuracy.png\", dpi=300, bbox_inches='tight')\n",
    "  plt.show()"
   ]
  },
  {
   "cell_type": "code",
   "execution_count": null,
   "metadata": {},
   "outputs": [],
   "source": [
    "specs_df = pd.read_csv(\"model_specs.csv\")\n",
    "specs_df.loc[specs_df[\"quantization\"].isna(),\"quantization\"] = \"None\"\n",
    "specs_df.head()"
   ]
  },
  {
   "cell_type": "code",
   "execution_count": null,
   "metadata": {},
   "outputs": [],
   "source": [
    "from scipy.spatial import ConvexHull\n",
    "import matplotlib.pyplot as plt\n",
    "from matplotlib.colors import to_rgba\n",
    "\n",
    "# Filter the dataframe for the desired datasets\n",
    "datasets = [\"winogrande\", \"arc\", \"truthfulqa\", \"hellaswag\"]\n",
    "filtered_df = result_df[result_df[\"dataset\"].isin(datasets)]\n",
    "filtered_df = filtered_df[filtered_df[\"framework\"] != \"paper\"]\n",
    "\n",
    "# Create a separate plot for each dataset\n",
    "for dataset in datasets:\n",
    "  dataset_df = filtered_df[filtered_df[\"dataset\"] == dataset]\n",
    "\n",
    "  if dataset == \"hellaswag\":\n",
    "    dataset_df = dataset_df[dataset_df.model != \"gemma-2b\"]\n",
    "    dataset_df = dataset_df[dataset_df.model != \"gemma-7b\"]\n",
    "  #dataset_df.loc[dataset_df[\"quantization\"].isna(),\"quantization\"] = \"None\"\n",
    "  print(dataset_df.model.unique())\n",
    "  dataset_df = dataset_df.merge(specs_df, on=(\"model\",\"quantization\"))\n",
    "\n",
    "  # Create a single plot for the model in the dataset\n",
    "  plt.figure()\n",
    "  ax = sns.scatterplot(x=\"size_in_memory\", y=\"accuracy\", hue=\"model\", style=\"quantization\", data=dataset_df)\n",
    "\n",
    "  ax.set_title(f\"{dataset}: Performance vs Model Size\")\n",
    "  ax.set_xlabel(\"Model Size (GB)\")\n",
    "  ax.set_ylabel(\"Accuracy (%)\")\n",
    "  ax.legend(prop={'size': 6}, ncol=2)\n",
    "  plt.savefig(f\"figures/{dataset}_performance_vs_size.pdf\", dpi=300, bbox_inches='tight')\n",
    "  plt.show()"
   ]
  },
  {
   "cell_type": "code",
   "execution_count": null,
   "metadata": {},
   "outputs": [],
   "source": [
    "result_df.replace(np.nan, \"None\", inplace=True)\n",
    "specs_df.replace(np.nan, \"None\", inplace=True)\n",
    "display(result_df.head(5))\n",
    "display(specs_df.head(5))"
   ]
  },
  {
   "cell_type": "code",
   "execution_count": null,
   "metadata": {},
   "outputs": [],
   "source": [
    "from scipy.spatial import ConvexHull\n",
    "import numpy as np\n",
    "\n",
    "datasets = [\"winogrande\", \"arc\", \"truthfulqa\", \"hellaswag\"]\n",
    "filtered_df = result_df[result_df[\"dataset\"].isin(datasets)]\n",
    "filtered_df = filtered_df[filtered_df[\"framework\"] != \"paper\"]\n",
    "\n",
    "total_datasets = len(datasets)\n",
    "# Create a separate plot for each dataset\n",
    "for i, dataset in enumerate(datasets):\n",
    "  print(dataset)\n",
    "  dataset_df = filtered_df[filtered_df[\"dataset\"] == dataset]\n",
    "  dataset_df = dataset_df.merge(specs_df, on=(\"model\",\"quantization\"))\n",
    "  dataset_df = dataset_df.sort_values(by=[\"model\", \"quantization\"])\n",
    "\n",
    "  # Create a single plot for the model in the dataset\n",
    "  plt.figure(figsize=(10,8))\n",
    "  ax = sns.scatterplot(x=\"size_in_memory\", y=\"accuracy\", hue=\"model\", style=\"quantization\", data=dataset_df,\n",
    "                       s=150, alpha=0.8)\n",
    "\n",
    "  # Draw convex hulls for each model\n",
    "  models = dataset_df[\"model\"].unique()\n",
    "  sorted_models = sorted(models)\n",
    "  for model in sorted_models:\n",
    "    # if dataset == \"hellaswag\" and (model == \"gemma-7b\" or model == \"gemma-2b\"):\n",
    "    #   continue\n",
    "    model_df = dataset_df[dataset_df[\"model\"] == model]\n",
    "    points = model_df[[\"size\", \"accuracy\"]].values\n",
    "    hull = ConvexHull(points)\n",
    "    hull_points = points[hull.vertices]\n",
    "    hull_points = np.append(hull_points, hull_points[0:1], axis=0)\n",
    "\n",
    "    color = sns.color_palette(\"tab10\")[sorted_models.index(model)]\n",
    "    ax.fill(hull_points[:, 0], hull_points[:, 1], color=to_rgba(color, 0.3))\n",
    "\n",
    "  # ax.set_title(f\"{dataset}: Performance vs Model Size\")\n",
    "  ax.set_xlabel(\"Model Size (GB)\")\n",
    "  ax.set_ylabel(\"Accuracy (%)\")\n",
    "  ax.set_xscale('log')\n",
    "  xticks = [1, 2, 4, 8, 16, 32]\n",
    "  xticklabels = [f\"{size}\" if size != 0.5 else \"½\" for size in xticks]\n",
    "  ax.set_xticks(xticks)\n",
    "  ax.set_xticklabels(xticklabels, rotation=0)\n",
    "  # ax.set_xlim(-0, xticks[-1])\n",
    "  if dataset == 'arc':\n",
    "    ax.legend(prop={'size': 14}, ncol=2, loc=\"lower right\",\n",
    "              columnspacing=-0.3)\n",
    "  else:\n",
    "    ax.get_legend().remove()\n",
    "  ax.grid()\n",
    "  plt.savefig(f\"figures/{dataset}_performance_vs_size.pdf\", dpi=300, bbox_inches='tight')\n",
    "  plt.show()"
   ]
  },
  {
   "cell_type": "code",
   "execution_count": null,
   "metadata": {},
   "outputs": [],
   "source": [
    "# Configure pd display\n",
    "pd.options.display.max_columns = None\n",
    "pd.options.display.max_rows = None"
   ]
  },
  {
   "cell_type": "markdown",
   "metadata": {},
   "source": [
    "## Extract tables"
   ]
  },
  {
   "cell_type": "code",
   "execution_count": null,
   "metadata": {},
   "outputs": [],
   "source": [
    "result_df.framework.unique()\n",
    "result_df.quantization.unique()"
   ]
  },
  {
   "cell_type": "code",
   "execution_count": null,
   "metadata": {},
   "outputs": [],
   "source": [
    "specs_df.quantization.unique()"
   ]
  },
  {
   "cell_type": "code",
   "execution_count": null,
   "metadata": {},
   "outputs": [],
   "source": [
    "mapping_quant_framework = {\n",
    "    \"q3_k\": \"llamacpp\",\n",
    "    \"q4_0\": \"llamacpp\",\n",
    "    \"q4_k\": \"llamacpp\",\n",
    "    \"AWQ\": \"pytorch\",\n",
    "    \"GPTQ\": \"pytorch\",\n",
    "    \"None\": \"pytorch\"\n",
    "}\n",
    "specs_df[\"framework\"] = specs_df[\"quantization\"].map(mapping_quant_framework)\n",
    "specs_df"
   ]
  },
  {
   "cell_type": "code",
   "execution_count": null,
   "metadata": {},
   "outputs": [],
   "source": [
    "merged_df = result_df.merge(specs_df, on=(\"model\", \"quantization\"))\n",
    "display(merged_df.head(5))"
   ]
  },
  {
   "cell_type": "code",
   "execution_count": null,
   "metadata": {},
   "outputs": [],
   "source": [
    "result_df[(result_df.quantization == \"None\") & (result_df.framework != 'paper') & (result_df.framework == 'pytorch')]"
   ]
  },
  {
   "cell_type": "code",
   "execution_count": null,
   "metadata": {},
   "outputs": [],
   "source": [
    "display(result_df[(result_df.quantization == \"None\") & (result_df.framework != 'paper')].head(10))\n",
    "display(specs_df[specs_df.quantization == \"None\"].head(10))"
   ]
  },
  {
   "cell_type": "code",
   "execution_count": null,
   "metadata": {},
   "outputs": [],
   "source": [
    "merged_df[merged_df.quantization == \"None\"].model.unique()"
   ]
  },
  {
   "cell_type": "code",
   "execution_count": null,
   "metadata": {},
   "outputs": [],
   "source": [
    "# turn all floats to use 2 decimal places and display only that to string\n",
    "acc_size_df_all = merged_df.groupby([\"model\", \"quantization\", \"size_in_memory\", \"dataset\", ])[[\"accuracy\"]].sum()\n",
    "# display(acc_size_df_all)\n",
    "\n",
    "for model, group_df in acc_size_df_all.groupby(\"model\").groups.items():\n",
    "  display(model)\n",
    "  cols = ['size_in_memory', 'accuracy']\n",
    "  df_of_interest = acc_size_df_all.loc[group_df].reset_index()[[\"quantization\", \"size_in_memory\", \"dataset\", \"accuracy\"]]\n",
    "  df_of_interest[cols] = df_of_interest[cols].replace(\"None\", np.nan)\n",
    "  df_of_interest[cols] = df_of_interest[cols].astype(np.double).applymap(lambda x: f\"{x:.2f}\" if x else 'None')\n",
    "  df_of_interest.set_index([\"quantization\", \"size_in_memory\", \"dataset\"], inplace=True)\n",
    "\n",
    "  with open(f\"acc_size_df_{model}.tex\", \"w\") as f:\n",
    "    f.write(df_of_interest.to_latex().replace('_', '\\_'))\n",
    "\n",
    "with open(\"acc_size_df_all.tex\", \"w\") as f:\n",
    "  f.write(acc_size_df_all.to_latex().replace('_', '\\_'))"
   ]
  }
 ],
 "metadata": {
  "kernelspec": {
   "display_name": "melt",
   "language": "python",
   "name": "python3"
  },
  "language_info": {
   "codemirror_mode": {
    "name": "ipython",
    "version": 3
   },
   "file_extension": ".py",
   "mimetype": "text/x-python",
   "name": "python",
   "nbconvert_exporter": "python",
   "pygments_lexer": "ipython3",
   "version": "3.11.4"
  }
 },
 "nbformat": 4,
 "nbformat_minor": 2
}
