{
 "cells": [
  {
   "cell_type": "code",
   "execution_count": null,
   "metadata": {},
   "outputs": [],
   "source": [
    "import copy\n",
    "import json\n",
    "import pandas as pd\n",
    "import numpy as np\n",
    "import nltk\n",
    "\n",
    "import matplotlib.pyplot as plt\n",
    "import matplotlib\n",
    "import seaborn as sns\n",
    "\n",
    "%matplotlib inline\n",
    "\n",
    "matplotlib.rcParams.update({'font.size': 22})"
   ]
  },
  {
   "cell_type": "code",
   "execution_count": null,
   "metadata": {},
   "outputs": [],
   "source": [
    "with open('../conversations.json', 'r') as f:\n",
    "    conversations = json.load(f)\n",
    "conversations"
   ]
  },
  {
   "cell_type": "code",
   "execution_count": null,
   "metadata": {},
   "outputs": [],
   "source": [
    "len(conversations)"
   ]
  },
  {
   "cell_type": "code",
   "execution_count": null,
   "metadata": {},
   "outputs": [],
   "source": [
    "data = []\n",
    "for conv in conversations:\n",
    "    data_conv = []\n",
    "    for prompt in conv:\n",
    "        tokens = nltk.word_tokenize(prompt)\n",
    "        text = nltk.Text(tokens)\n",
    "        tags = nltk.pos_tag(tokens)\n",
    "        data_conv.append({\n",
    "            'prompt': prompt,\n",
    "            'tokens': tokens,\n",
    "            'text': text,\n",
    "            'tags': tags,\n",
    "        })\n",
    "    data.append(data_conv)"
   ]
  },
  {
   "cell_type": "code",
   "execution_count": null,
   "metadata": {},
   "outputs": [],
   "source": [
    "from collections import Counter\n",
    "\n",
    "counters = []\n",
    "for conv in data:\n",
    "    for prompt in conv:\n",
    "        counters.append(Counter(tag for word, tag in prompt['tags']))\n",
    "\n",
    "print(counters)\n",
    "d = dict(sum(counters, Counter()))\n"
   ]
  },
  {
   "cell_type": "code",
   "execution_count": null,
   "metadata": {},
   "outputs": [],
   "source": [
    "nltk_lexicon = {\n",
    "    \"CC\":      (\"conjuction\"               , \"coordinating conjunction\"),\n",
    "    \"CD\":      (\"digit\"               , \"cardinal digit\"),\n",
    "    \"DT\":      (\"determiner\"               , \"determiner\"),\n",
    "    \"EX\":      (\"existential there\"               , \"existential there\"),\n",
    "    \"FW\":      (\"foreign\"               , \"foreign word\"),\n",
    "    \"IN\":      (\"preposition\"               , \"preposition/subordinating conjunction\"),\n",
    "    \"JJ\":      (\"adjective\"      , \"adjective (e.g. large)\"),\n",
    "    \"JJR\":     (\"adjective\"      , \"adjective, comparative (e.g. larger)\"),\n",
    "    \"JJS\":     (\"adjective\"      , \"adjective, superlative (e.g. largest)\"),\n",
    "    \"LS\":      (\"list item\"               , \"list market\"),\n",
    "    \"MD\":      (\"modal\"               , \"modal (e.g. could, will)\"),\n",
    "    \"NN\":      (\"noun\"           , \"noun, singular (e.g. cat, tree)\"),\n",
    "    \"NNS\":     (\"noun\"           , \"noun plural (e.g. desks)\"),\n",
    "    \"NNP\":     (\"name\"           , \"proper noun, singular (e.g. Sarah)\"),\n",
    "    \"NNPS\":    (\"name\"           , \"proper noun, plural (e.g. Indians or Americans)\"),\n",
    "    \"PDT\":     (\"predeterminer\"               , \"predeterminer (e.g. all, both, half)\"),\n",
    "    \"POS\":     (\"poss. ending\"               , \"possessive ending (e.g. parent\\ ‘s)\"),\n",
    "    \"PRP\":     (\"pers. pronoun\"               , \"personal pronoun (e.g. hers, herself, him, himself)\"),\n",
    "    \"PRP\":     (\"poss. pronoun\"               , \"possessive pronoun (e.g. her, his, mine, my, our )\"),\n",
    "    \"RB\":      (\"adverb\"         , \"adverb (e.g. occasionally, swiftly)\"),\n",
    "    \"RBR\":     (\"adverb\"         , \"adverb, comparative (e.g. greater)\"),\n",
    "    \"RBS\":     (\"adverb\"         , \"adverb, superlative (e.g. biggest)\"),\n",
    "    \"RP\":      (\"particle\"               , \"particle (e.g. about)\"),\n",
    "    \"TO\":      (\"to\"               , \"infinite marker (e.g. to)\"),\n",
    "    \"UH\":      (\"interjection\"               , \"interjection (e.g. goodbye)\"),\n",
    "    \"VB\":      (\"verb\"           , \"verb (e.g. ask)\"),\n",
    "    \"VBG\":     (\"verb\"           , \"verb gerund (e.g. judging)\"),\n",
    "    \"VBD\":     (\"verb\"           , \"verb past tense (e.g. pleaded)\"),\n",
    "    \"VBN\":     (\"verb\"           , \"verb past participle (e.g. reunified)\"),\n",
    "    \"VBP\":     (\"verb\"           , \"verb, present tense not 3rd person singular (wrap)\"),\n",
    "    \"VBZ\":     (\"verb\"           , \"verb, present tense with 3rd person singular (bases)\"),\n",
    "    \"WDT\":     (\"wh-word\"               , \"wh-determiner (e.g. that, what)\"),\n",
    "    \"WP\":      (\"wh-word\"               , \"wh- pronoun (e.g. who)\"),\n",
    "    \"WRB\":     (\"wh-word\"               , \"wh- adverb (e.g. how)\"),\n",
    "}"
   ]
  },
  {
   "cell_type": "code",
   "execution_count": null,
   "metadata": {},
   "outputs": [],
   "source": [
    "df = pd.DataFrame(d.items(), columns=['tag', 'count'])\n",
    "df['description'] = df['tag'].map({k: v[1] for k ,v in nltk_lexicon.items()})\n",
    "df['gen_tag'] = df['tag'].map({k: v[0] if v[0] else k for k ,v in nltk_lexicon.items()})\n",
    "df['prct'] = df['count'] / (df['count'].sum())"
   ]
  },
  {
   "cell_type": "code",
   "execution_count": null,
   "metadata": {},
   "outputs": [],
   "source": [
    "clean_df = df.dropna().sort_values('count', ascending=False)\n",
    "clean_df"
   ]
  },
  {
   "cell_type": "code",
   "execution_count": null,
   "metadata": {},
   "outputs": [],
   "source": [
    "drawable_df = copy.copy(clean_df)\n",
    "drawable_df.loc[drawable_df['prct'] < 0.01, 'tag'] = \"other\"\n",
    "drawable_df.loc[drawable_df['prct'] < 0.01, 'gen_tag'] = \"other\"\n",
    "drawable_df.loc[drawable_df['prct'] < 0.01, 'description'] = \"other\"\n",
    "drawable_df = drawable_df.groupby(['gen_tag'])['count'].sum().reset_index()\n",
    "display(drawable_df.sort_values('count', ascending=False))\n",
    "\n",
    "cmap = plt.cm.twilight\n",
    "colors = cmap(np.linspace(0, 1, len(drawable_df)))\n",
    "\n",
    "ax = drawable_df.plot.pie(y='count', labels=[''] * len(drawable_df), autopct='%1.1f%%',\n",
    "                          startangle=140, figsize=(10, 10), colors=colors,  legend=True)\n",
    "\n",
    "ax.legend(drawable_df['gen_tag'], title='Part of speech', loc=\"upper center\",\n",
    "          ncol=1, fontsize='small', bbox_to_anchor=(1.2, 0.9))\n",
    "\n",
    "autotexts = [text for text in ax.texts if '%' in text.get_text()]\n",
    "\n",
    "for autotext in autotexts:\n",
    "    pos = autotext.get_position()\n",
    "    x = pos[0] * 1.9  # Move outwards by 10%\n",
    "    y = pos[1] * 1.9\n",
    "    autotext.set_position((x, y))\n",
    "\n",
    "ax.set_ylabel('')\n",
    "\n",
    "plt.savefig('../results/pos_pie.pdf', bbox_inches='tight')"
   ]
  },
  {
   "cell_type": "code",
   "execution_count": null,
   "metadata": {},
   "outputs": [],
   "source": [
    "# Conversation sizes\n",
    "\n",
    "conversation_lengths = [len(conv) for conv in conversations]\n",
    "print(len(conversation_lengths))\n",
    "\n",
    "cmap = plt.cm.twilight\n",
    "colors = cmap(np.linspace(0, 1, 10))\n",
    "\n",
    "sns.histplot(conversation_lengths, cumulative=True, discrete=True, stat='density', element='bars',\n",
    "             fill=True, color=colors[2])\n",
    "\n",
    "plt.ylabel('Frequency (normalised)')\n",
    "plt.xlabel('Conversation length\\n(prompts per conversation)')\n",
    "plt.savefig('../results/conv_length.pdf', bbox_inches='tight')"
   ]
  },
  {
   "cell_type": "code",
   "execution_count": null,
   "metadata": {},
   "outputs": [],
   "source": [
    "words_per_prompt = [len(dc['tokens']) for dc in data_conv]\n",
    "\n",
    "cmap = plt.cm.twilight\n",
    "colors = cmap(np.linspace(0, 1, 10))\n",
    "\n",
    "sns.histplot(words_per_prompt, cumulative=True, discrete=True, stat='density', element='bars',\n",
    "             fill=True, color=colors[3])\n",
    "plt.ylabel('Frequency (normalised)')\n",
    "plt.xlabel('Prompt length\\n(words per prompt)')\n",
    "plt.savefig('../results/prompt_length.pdf', bbox_inches='tight')"
   ]
  }
 ],
 "metadata": {
  "kernelspec": {
   "display_name": "mlc-chat-venv",
   "language": "python",
   "name": "python3"
  },
  "language_info": {
   "codemirror_mode": {
    "name": "ipython",
    "version": 3
   },
   "file_extension": ".py",
   "mimetype": "text/x-python",
   "name": "python",
   "nbconvert_exporter": "python",
   "pygments_lexer": "ipython3",
   "version": "3.11.4"
  }
 },
 "nbformat": 4,
 "nbformat_minor": 2
}
