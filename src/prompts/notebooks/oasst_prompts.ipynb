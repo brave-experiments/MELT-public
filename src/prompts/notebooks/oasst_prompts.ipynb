{
 "cells": [
  {
   "cell_type": "code",
   "execution_count": null,
   "metadata": {},
   "outputs": [],
   "source": [
    "import random\n",
    "from datasets import load_dataset\n",
    "import json"
   ]
  },
  {
   "cell_type": "code",
   "execution_count": null,
   "metadata": {},
   "outputs": [],
   "source": [
    "dataset = load_dataset(\"OpenAssistant/oasst1\")\n",
    "# get pandas dataframe\n",
    "oasst_df = dataset['train'].to_pandas()\n",
    "oasst_df.head()"
   ]
  },
  {
   "cell_type": "code",
   "execution_count": null,
   "metadata": {},
   "outputs": [],
   "source": [
    "oasst_df.lang.unique()"
   ]
  },
  {
   "cell_type": "code",
   "execution_count": null,
   "metadata": {},
   "outputs": [],
   "source": [
    "# apply relevant filters\n",
    "oasst_df = oasst_df[oasst_df['synthetic'] == False]\n",
    "oasst_en_df = oasst_df[oasst_df['lang'] == 'en']"
   ]
  },
  {
   "cell_type": "code",
   "execution_count": null,
   "metadata": {},
   "outputs": [],
   "source": [
    "conversation_ids = oasst_en_df['message_tree_id'].unique().tolist()\n",
    "\n",
    "random.seed(42)\n",
    "n_samples = 2000\n",
    "conversation_ids_sample = random.sample(conversation_ids, n_samples)\n",
    "\n",
    "conversation_starters = []\n",
    "\n",
    "for id in conversation_ids_sample:\n",
    "  conversation_df = oasst_en_df[oasst_en_df['message_tree_id'] == id]\n",
    "  user_prompt_df = conversation_df[conversation_df.role == \"prompter\"]\n",
    "  # filter out text longer than 1500 characters\n",
    "  user_prompt_df = user_prompt_df[user_prompt_df['text'].str.len() < 1500]\n",
    "  if user_prompt_df.shape[0] > 1:\n",
    "    conversation_starters.append(user_prompt_df['text'].values[0])"
   ]
  },
  {
   "cell_type": "code",
   "execution_count": null,
   "metadata": {},
   "outputs": [],
   "source": [
    "N_CONVERSASTIONS = 50\n",
    "MIN_CONVERSATION_LENGTH = 5\n",
    "\n",
    "conversations = []\n",
    "\n",
    "for i in range(N_CONVERSASTIONS):\n",
    "  delta = random.randint(1, 5)\n",
    "  convo = random.sample(conversation_starters, MIN_CONVERSATION_LENGTH + delta)\n",
    "\n",
    "  convo = [interaction for interaction in convo]\n",
    "\n",
    "  conversations.append(convo)\n"
   ]
  },
  {
   "cell_type": "code",
   "execution_count": null,
   "metadata": {},
   "outputs": [],
   "source": [
    "with open(\"conversations.json\", \"w\") as f:\n",
    "  json.dump(conversations, f, indent=4)\n"
   ]
  }
 ],
 "metadata": {
  "kernelspec": {
   "display_name": "Python 3.9.18 ('melt')",
   "language": "python",
   "name": "python3"
  },
  "language_info": {
   "codemirror_mode": {
    "name": "ipython",
    "version": 3
   },
   "file_extension": ".py",
   "mimetype": "text/x-python",
   "name": "python",
   "nbconvert_exporter": "python",
   "pygments_lexer": "ipython3",
   "version": "3.11.4"
  },
  "orig_nbformat": 4,
  "vscode": {
   "interpreter": {
    "hash": "f17a1f051a2eb28b727a709e153fbd670fdca23726e2b319358bfbbb848da26a"
   }
  }
 },
 "nbformat": 4,
 "nbformat_minor": 2
}
