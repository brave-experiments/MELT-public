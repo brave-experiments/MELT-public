{
 "cells": [
  {
   "cell_type": "code",
   "execution_count": 34,
   "metadata": {},
   "outputs": [],
   "source": [
    "import json\n",
    "import pprint"
   ]
  },
  {
   "cell_type": "code",
   "execution_count": 35,
   "metadata": {},
   "outputs": [
    {
     "name": "stdout",
     "output_type": "stream",
     "text": [
      "--2023-11-29 17:16:51--  https://github.com/openai/human-eval/raw/master/data/HumanEval.jsonl.gz\n",
      "Resolving github.com (github.com)... 140.82.121.3\n",
      "Connecting to github.com (github.com)|140.82.121.3|:443... connected.\n",
      "HTTP request sent, awaiting response... 302 Found\n",
      "Location: https://raw.githubusercontent.com/openai/human-eval/master/data/HumanEval.jsonl.gz [following]\n",
      "--2023-11-29 17:16:51--  https://raw.githubusercontent.com/openai/human-eval/master/data/HumanEval.jsonl.gz\n",
      "Resolving raw.githubusercontent.com (raw.githubusercontent.com)... 185.199.108.133, 185.199.110.133, 185.199.111.133, ...\n",
      "Connecting to raw.githubusercontent.com (raw.githubusercontent.com)|185.199.108.133|:443... connected.\n",
      "HTTP request sent, awaiting response... 200 OK\n",
      "Length: 44877 (44K) [application/octet-stream]\n",
      "Saving to: ‘HumanEval.jsonl.gz’\n",
      "\n",
      "HumanEval.jsonl.gz  100%[===================>]  43.83K  --.-KB/s    in 0.01s   \n",
      "\n",
      "2023-11-29 17:16:51 (3.68 MB/s) - ‘HumanEval.jsonl.gz’ saved [44877/44877]\n",
      "\n"
     ]
    }
   ],
   "source": [
    "!if [ ! -f HumanEval.jsonl.gz ]; then wget https://github.com/openai/human-eval/raw/master/data/HumanEval.jsonl.gz; fi\n",
    "!if [ ! -f HumanEval.jsonl ]; then gunzip HumanEval.jsonl.gz;fi"
   ]
  },
  {
   "cell_type": "code",
   "execution_count": 36,
   "metadata": {},
   "outputs": [
    {
     "name": "stdout",
     "output_type": "stream",
     "text": [
      "{'task_id': 'HumanEval/0', 'prompt': 'from typing import List\\n\\n\\ndef has_close_elements(numbers: List[float], threshold: float) -> bool:\\n    \"\"\" Check if in given list of numbers, are any two numbers closer to each other than\\n    given threshold.\\n    >>> has_close_elements([1.0, 2.0, 3.0], 0.5)\\n    False\\n    >>> has_close_elements([1.0, 2.8, 3.0, 4.0, 5.0, 2.0], 0.3)\\n    True\\n    \"\"\"\\n', 'entry_point': 'has_close_elements', 'canonical_solution': '    for idx, elem in enumerate(numbers):\\n        for idx2, elem2 in enumerate(numbers):\\n            if idx != idx2:\\n                distance = abs(elem - elem2)\\n                if distance < threshold:\\n                    return True\\n\\n    return False\\n', 'test': \"\\n\\nMETADATA = {\\n    'author': 'jt',\\n    'dataset': 'test'\\n}\\n\\n\\ndef check(candidate):\\n    assert candidate([1.0, 2.0, 3.9, 4.0, 5.0, 2.2], 0.3) == True\\n    assert candidate([1.0, 2.0, 3.9, 4.0, 5.0, 2.2], 0.05) == False\\n    assert candidate([1.0, 2.0, 5.9, 4.0, 5.0], 0.95) == True\\n    assert candidate([1.0, 2.0, 5.9, 4.0, 5.0], 0.8) == False\\n    assert candidate([1.0, 2.0, 3.0, 4.0, 5.0, 2.0], 0.1) == True\\n    assert candidate([1.1, 2.2, 3.1, 4.1, 5.1], 1.0) == True\\n    assert candidate([1.1, 2.2, 3.1, 4.1, 5.1], 0.5) == False\\n\\n\"}\n",
      "Size:  164\n"
     ]
    }
   ],
   "source": [
    "with open(\"HumanEval.jsonl\", \"r\") as f:\n",
    "  human_eval = [json.loads(line) for line in f]\n",
    "\n",
    "print(human_eval[0])\n",
    "print(\"Size: \", len(human_eval))\n"
   ]
  },
  {
   "cell_type": "code",
   "execution_count": 37,
   "metadata": {},
   "outputs": [
    {
     "data": {
      "text/plain": [
       "dict_keys(['task_id', 'prompt', 'entry_point', 'canonical_solution', 'test'])"
      ]
     },
     "execution_count": 37,
     "metadata": {},
     "output_type": "execute_result"
    }
   ],
   "source": [
    "human_eval[0].keys()\n"
   ]
  },
  {
   "cell_type": "code",
   "execution_count": 38,
   "metadata": {},
   "outputs": [],
   "source": [
    "import random\n",
    "\n",
    "N_CONVERSASTIONS = 40\n",
    "MIN_CONVERSATION_LENGTH = 3\n",
    "TOTAL_WORD_LENGTH_LIMIT = 2048 * 0.75\n",
    "SEED = 123\n",
    "\n",
    "random.seed(SEED)\n",
    "code_conversations = []\n",
    "\n",
    "for i in range(N_CONVERSASTIONS):\n",
    "  convo = random.sample(human_eval, MIN_CONVERSATION_LENGTH)\n",
    "  convo = [interaction['prompt'] for interaction in convo]\n",
    "  total_length = sum([len(prompt) for prompt in convo])\n",
    "  if total_length < TOTAL_WORD_LENGTH_LIMIT:\n",
    "    code_conversations.append(convo)\n"
   ]
  },
  {
   "cell_type": "code",
   "execution_count": 39,
   "metadata": {},
   "outputs": [
    {
     "data": {
      "text/plain": [
       "28"
      ]
     },
     "execution_count": 39,
     "metadata": {},
     "output_type": "execute_result"
    }
   ],
   "source": [
    "len(code_conversations)"
   ]
  },
  {
   "cell_type": "code",
   "execution_count": 40,
   "metadata": {},
   "outputs": [
    {
     "name": "stdout",
     "output_type": "stream",
     "text": [
      "('from typing import List, Tuple\\n'\n",
      " '\\n'\n",
      " '\\n'\n",
      " 'def rolling_max(numbers: List[int]) -> List[int]:\\n'\n",
      " '    \"\"\" From a given list of integers, generate a list of rolling maximum '\n",
      " 'element found until given moment\\n'\n",
      " '    in the sequence.\\n'\n",
      " '    >>> rolling_max([1, 2, 3, 2, 3, 4, 2])\\n'\n",
      " '    [1, 2, 3, 3, 3, 4, 4]\\n'\n",
      " '    \"\"\"\\n')\n"
     ]
    }
   ],
   "source": [
    "pp = pprint.PrettyPrinter(indent=4)\n",
    "\n",
    "pp.pprint(code_conversations[0][0])\n"
   ]
  },
  {
   "cell_type": "code",
   "execution_count": 41,
   "metadata": {},
   "outputs": [],
   "source": [
    "with open(\"code_conversations.json\", \"w\") as f:\n",
    "  json.dump(code_conversations, f, indent=4)\n"
   ]
  },
  {
   "cell_type": "code",
   "execution_count": null,
   "metadata": {},
   "outputs": [],
   "source": []
  }
 ],
 "metadata": {
  "kernelspec": {
   "display_name": "Python 3.9.18 ('melt')",
   "language": "python",
   "name": "python3"
  },
  "language_info": {
   "codemirror_mode": {
    "name": "ipython",
    "version": 3
   },
   "file_extension": ".py",
   "mimetype": "text/x-python",
   "name": "python",
   "nbconvert_exporter": "python",
   "pygments_lexer": "ipython3",
   "version": "3.11.4"
  },
  "orig_nbformat": 4,
  "vscode": {
   "interpreter": {
    "hash": "f17a1f051a2eb28b727a709e153fbd670fdca23726e2b319358bfbbb848da26a"
   }
  }
 },
 "nbformat": 4,
 "nbformat_minor": 2
}
