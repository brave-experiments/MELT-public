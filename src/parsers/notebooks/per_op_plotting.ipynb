{
 "cells": [
  {
   "cell_type": "code",
   "execution_count": null,
   "metadata": {},
   "outputs": [],
   "source": [
    "import numpy as np\n",
    "import pandas as pd\n",
    "import matplotlib.pyplot as plt\n",
    "import glob\n",
    "import re\n",
    "\n",
    "%matplotlib inline\n",
    "\n",
    "# Show all df rows\n",
    "pd.set_option('display.max_rows', None)"
   ]
  },
  {
   "cell_type": "code",
   "execution_count": null,
   "metadata": {},
   "outputs": [],
   "source": [
    "data_root = \"insert your data root here\"\n",
    "module_data = pd.read_csv(f'{data_root}/calls_merged_per_module.csv')\n",
    "op_data_files = glob.glob(f\"{data_root}/calls_* _*.csv\")\n"
   ]
  },
  {
   "cell_type": "code",
   "execution_count": null,
   "metadata": {},
   "outputs": [],
   "source": [
    "module_data['Throughput'] = module_data['Count']/(module_data['Duration (us)']/10**3)"
   ]
  },
  {
   "cell_type": "code",
   "execution_count": null,
   "metadata": {},
   "outputs": [],
   "source": [
    "module_data"
   ]
  },
  {
   "cell_type": "code",
   "execution_count": null,
   "metadata": {},
   "outputs": [],
   "source": [
    "all_dfs = []\n",
    "for file in op_data_files:\n",
    "    module_regex = r'calls_(\\w+) _(\\d+).csv'\n",
    "    module, iteration = re.search(module_regex, file).groups()\n",
    "    op_data = pd.read_csv(file)\n",
    "    op_data['iteration'] = int(iteration)\n",
    "    all_dfs.append(op_data)\n",
    "\n",
    "op_dfs = pd.concat(all_dfs)\n",
    "display(op_dfs)"
   ]
  },
  {
   "cell_type": "code",
   "execution_count": null,
   "metadata": {},
   "outputs": [],
   "source": [
    "per_device = op_dfs.groupby(\"Device\")[[\"Duration (us)\"]].sum()\n",
    "per_device[\"prct_spent\"] = per_device[\"Duration (us)\"]/per_device[\"Duration (us)\"].sum()\n",
    "per_device"
   ]
  },
  {
   "cell_type": "code",
   "execution_count": null,
   "metadata": {},
   "outputs": [],
   "source": [
    "per_op_grouped = op_dfs.groupby([\"Module\", \"Name\"])[[\"Duration (us)\", \"Count\", \"iteration\"]].mean()\n",
    "\n",
    "# normalise duration per module\n",
    "per_op_df = per_op_grouped.reset_index()\n",
    "per_op_df[\"Duration norm\"] = per_op_df.groupby(\"Module\")['Duration (us)'].transform(lambda x: x / x.sum())\n",
    "print(per_op_df.iteration.unique())\n",
    "display(per_op_df)\n",
    "\n",
    "def mapping(name):\n",
    "    if name.startswith(\"fused_fused\"):\n",
    "        name = name.replace(\"fused_fused_\", \"fused_\")\n",
    "    if \"_NT_matmul\" in name:\n",
    "        return name.replace(\"_NT_matmul\", \"\\n_NT_matmul\")\n",
    "    if name == \"vm.builtin.paged_attention_kv_cache_attention_with_fused_qkv\":\n",
    "        return \"vm.builtin.paged_attention\\n_kv_cache_attention\\n_with_fused_qkv\"\n",
    "    return name\n",
    "\n",
    "per_op_df[\"Grouped Name\"] = per_op_df[\"Name\"].apply(mapping)\n",
    "\n",
    "per_op_df = per_op_df.groupby([\"Module\", \"Grouped Name\"]).sum()\n",
    "display(per_op_df)\n",
    "\n",
    "\n",
    "cmap = plt.cm.twilight\n",
    "for group, df in per_op_df.reset_index().groupby(\"Module\"):\n",
    "    df = df[df[\"Duration norm\"] > 0.01]\n",
    "    colors = cmap(np.linspace(0, 1, len(df)+1))\n",
    "    ax = df.set_index(\"Grouped Name\").plot.pie(y=\"Duration norm\", figsize=(4,3), legend=True, startangle=160,\n",
    "                                               ylabel='', labeldistance=None, autopct='%1.1f%%', pctdistance=0.77,\n",
    "                                               colors=colors, explode=[0.01] * len(df), textprops={'color':\"w\"},\n",
    "                                               title=group)\n",
    "    for text in ax.texts:\n",
    "        if text.get_text() in [\"12.6%\", \"28.0%\", \"22.6%\"]:\n",
    "            text.set_color(\"k\")\n",
    "        print(text)\n",
    "\n",
    "    ax.legend(loc='center left', bbox_to_anchor=(1, 0.6))\n",
    "\n",
    "    plt.savefig(f'./figures/per_op_mlc_llama_{group.strip()}.pdf', bbox_inches='tight')"
   ]
  }
 ],
 "metadata": {
  "kernelspec": {
   "display_name": "mlc-chat-venv",
   "language": "python",
   "name": "python3"
  },
  "language_info": {
   "codemirror_mode": {
    "name": "ipython",
    "version": 3
   },
   "file_extension": ".py",
   "mimetype": "text/x-python",
   "name": "python",
   "nbconvert_exporter": "python",
   "pygments_lexer": "ipython3",
   "version": "3.11.4"
  }
 },
 "nbformat": 4,
 "nbformat_minor": 2
}
